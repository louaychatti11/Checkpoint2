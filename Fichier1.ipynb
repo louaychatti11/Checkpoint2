{
  "nbformat": 4,
  "nbformat_minor": 0,
  "metadata": {
    "colab": {
      "name": "Untitled4.ipynb",
      "provenance": [],
      "collapsed_sections": []
    },
    "kernelspec": {
      "name": "python3",
      "display_name": "Python 3"
    },
    "language_info": {
      "name": "python"
    }
  },
  "cells": [
    {
      "cell_type": "code",
      "metadata": {
        "colab": {
          "base_uri": "https://localhost:8080/"
        },
        "id": "8aB8ZQnDHXnW",
        "outputId": "1c92879a-a857-4187-e0bc-b06334cdfcae"
      },
      "source": [
        "#Question 1\n",
        "mylist = []\n",
        "for i in range(2000,3201):\n",
        "  if i%7 == 0 and i%5 != 0:\n",
        "    mylist.append(i)\n",
        "print(mylist)"
      ],
      "execution_count": 61,
      "outputs": [
        {
          "output_type": "stream",
          "text": [
            "[2002, 2009, 2016, 2023, 2037, 2044, 2051, 2058, 2072, 2079, 2086, 2093, 2107, 2114, 2121, 2128, 2142, 2149, 2156, 2163, 2177, 2184, 2191, 2198, 2212, 2219, 2226, 2233, 2247, 2254, 2261, 2268, 2282, 2289, 2296, 2303, 2317, 2324, 2331, 2338, 2352, 2359, 2366, 2373, 2387, 2394, 2401, 2408, 2422, 2429, 2436, 2443, 2457, 2464, 2471, 2478, 2492, 2499, 2506, 2513, 2527, 2534, 2541, 2548, 2562, 2569, 2576, 2583, 2597, 2604, 2611, 2618, 2632, 2639, 2646, 2653, 2667, 2674, 2681, 2688, 2702, 2709, 2716, 2723, 2737, 2744, 2751, 2758, 2772, 2779, 2786, 2793, 2807, 2814, 2821, 2828, 2842, 2849, 2856, 2863, 2877, 2884, 2891, 2898, 2912, 2919, 2926, 2933, 2947, 2954, 2961, 2968, 2982, 2989, 2996, 3003, 3017, 3024, 3031, 3038, 3052, 3059, 3066, 3073, 3087, 3094, 3101, 3108, 3122, 3129, 3136, 3143, 3157, 3164, 3171, 3178, 3192, 3199]\n"
          ],
          "name": "stdout"
        }
      ]
    },
    {
      "cell_type": "code",
      "metadata": {
        "colab": {
          "base_uri": "https://localhost:8080/"
        },
        "id": "_tQ4YxhDI_DU",
        "outputId": "e1c45afa-8e6e-4cae-8b84-9668c3eb324d"
      },
      "source": [
        "#Question 2\n",
        "n = int(input())\n",
        "\n",
        "while n<0: #Cheking if n is positive\n",
        "  n = int(input())\n",
        "\n",
        "def factorial(x):\n",
        "  if x == 0 :\n",
        "    return 1\n",
        "  else :\n",
        "    fact = 1\n",
        "    for i in range(1,x+1):\n",
        "      fact *= i\n",
        "    return fact\n",
        "\n",
        "factorial(n)"
      ],
      "execution_count": 62,
      "outputs": [
        {
          "output_type": "stream",
          "text": [
            "5\n"
          ],
          "name": "stdout"
        },
        {
          "output_type": "execute_result",
          "data": {
            "text/plain": [
              "120"
            ]
          },
          "metadata": {
            "tags": []
          },
          "execution_count": 62
        }
      ]
    },
    {
      "cell_type": "code",
      "metadata": {
        "colab": {
          "base_uri": "https://localhost:8080/"
        },
        "id": "GIXi8mZeLNAy",
        "outputId": "453e566c-b178-4fe1-93d1-710a4f947bb6"
      },
      "source": [
        "#Question 3\n",
        "n = int(input())\n",
        "\n",
        "while n<1:\n",
        "  n = int(input())\n",
        "\n",
        "mydict = {}\n",
        "for i in range(1,n+1):\n",
        "  mydict[i] = i*i\n",
        "print(mydict)"
      ],
      "execution_count": 63,
      "outputs": [
        {
          "output_type": "stream",
          "text": [
            "7\n",
            "{1: 1, 2: 4, 3: 9, 4: 16, 5: 25, 6: 36, 7: 49}\n"
          ],
          "name": "stdout"
        }
      ]
    },
    {
      "cell_type": "code",
      "metadata": {
        "colab": {
          "base_uri": "https://localhost:8080/"
        },
        "id": "IH0B1PawN2RS",
        "outputId": "832afa16-470d-46d2-9880-9be484fbd0d7"
      },
      "source": [
        "#Question 4\n",
        "mystring = input()\n",
        "n = int(input())\n",
        "while not (n>=0 and n<=len(mystring)-1) :\n",
        "  n = int(input())\n",
        "\n",
        "mystring = mystring[:n] + mystring[(n+1):]\n",
        "print(mystring)"
      ],
      "execution_count": 64,
      "outputs": [
        {
          "output_type": "stream",
          "text": [
            "hello\n",
            "2\n",
            "helo\n"
          ],
          "name": "stdout"
        }
      ]
    },
    {
      "cell_type": "code",
      "metadata": {
        "colab": {
          "base_uri": "https://localhost:8080/"
        },
        "id": "iT7AUtVSRZAf",
        "outputId": "0d581862-711d-404c-d32c-14ac2ad2d3cb"
      },
      "source": [
        "#Question 5\n",
        "import numpy as np\n",
        "\n",
        "myarray = np.array([[0,1],[2,3],[4,5]] )\n",
        "mylst = myarray.tolist()\n",
        "print(mylst)"
      ],
      "execution_count": 66,
      "outputs": [
        {
          "output_type": "stream",
          "text": [
            "[[0, 1], [2, 3], [4, 5]]\n"
          ],
          "name": "stdout"
        }
      ]
    },
    {
      "cell_type": "code",
      "metadata": {
        "colab": {
          "base_uri": "https://localhost:8080/"
        },
        "id": "esdNiHMCS55F",
        "outputId": "8cdfbd07-a3e2-466d-8bdf-d7faddab5a35"
      },
      "source": [
        "#Question 6\n",
        "array1 = np.array([0,1,2])\n",
        "array2 = np.array([2,1,0])\n",
        "arrays_cov = np.cov(array1,array2)\n",
        "print(arrays_cov)"
      ],
      "execution_count": 67,
      "outputs": [
        {
          "output_type": "stream",
          "text": [
            "[[ 1. -1.]\n",
            " [-1.  1.]]\n"
          ],
          "name": "stdout"
        }
      ]
    },
    {
      "cell_type": "code",
      "metadata": {
        "colab": {
          "base_uri": "https://localhost:8080/"
        },
        "id": "xrE6XL1HVK7K",
        "outputId": "77602917-e90d-4a52-d49d-39bc3bece923"
      },
      "source": [
        "#Question 7\n",
        "import math\n",
        "\n",
        "C = 50\n",
        "H = 30\n",
        "D = input()\n",
        "D_values = D.split(\",\")\n",
        "Q = \"\"\n",
        "for i in D_values :\n",
        "  Q_i =  round(math.sqrt((2 * C * int(i))/H))\n",
        "  Q = Q + str(Q_i) + \",\"\n",
        "print (Q[:-1])"
      ],
      "execution_count": 68,
      "outputs": [
        {
          "output_type": "stream",
          "text": [
            "100,150,180\n",
            "18,22,24\n"
          ],
          "name": "stdout"
        }
      ]
    }
  ]
}